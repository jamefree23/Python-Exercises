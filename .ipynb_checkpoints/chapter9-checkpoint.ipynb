{
 "cells": [
  {
   "cell_type": "code",
   "execution_count": 49,
   "id": "608e8ffd-ffee-4555-8767-7994cdda3351",
   "metadata": {},
   "outputs": [],
   "source": [
    "import word \n"
   ]
  },
  {
   "cell_type": "code",
   "execution_count": 50,
   "id": "0be8fa53-cb89-45ce-b8d5-a22c4657bdc4",
   "metadata": {},
   "outputs": [
    {
     "name": "stdout",
     "output_type": "stream",
     "text": [
      "Nostalgia: 1\n"
     ]
    }
   ],
   "source": [
    "def main(file_name):\n",
    "\n",
    "    string_contents =''\n",
    "\n",
    "    with open(file_name, \"r\") as file:\n",
    "        string_contents= file.read()\n",
    "\n",
    "    word_list =  word.get_words_list(string_contents)\n",
    "    word_counts = word.get_counts(word_list)\n",
    "\n",
    "    for words, count in word_counts.items():\n",
    "        print(f\"{words}: {count}\")\n",
    "\n",
    "main(\"some_txt.txt\")\n",
    "        \n",
    "    \n",
    "   "
   ]
  }
 ],
 "metadata": {
  "kernelspec": {
   "display_name": "Python 3 (ipykernel)",
   "language": "python",
   "name": "python3"
  },
  "language_info": {
   "codemirror_mode": {
    "name": "ipython",
    "version": 3
   },
   "file_extension": ".py",
   "mimetype": "text/x-python",
   "name": "python",
   "nbconvert_exporter": "python",
   "pygments_lexer": "ipython3",
   "version": "3.11.7"
  }
 },
 "nbformat": 4,
 "nbformat_minor": 5
}
