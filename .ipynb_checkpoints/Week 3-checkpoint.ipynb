{
 "cells": [
  {
   "cell_type": "markdown",
   "id": "1f42cbb4-c5eb-4346-9505-441f331128bd",
   "metadata": {},
   "source": [
    "##Question 15"
   ]
  },
  {
   "cell_type": "code",
   "execution_count": 1,
   "id": "64fc8713-deee-4da5-b77c-0cd182ef31f8",
   "metadata": {},
   "outputs": [],
   "source": [
    "# if criterion 1 is met, it is a leap year and return 29\n",
    "# determine whether the year is divisible by 100\n",
    "# if criterion 2 is met, it is a leap year"
   ]
  },
  {
   "cell_type": "code",
   "execution_count": 33,
   "id": "3f1365ab-8cb2-4c94-aa11-db50cacaed8d",
   "metadata": {},
   "outputs": [
    {
     "name": "stdin",
     "output_type": "stream",
     "text": [
      "Enter a year: 2008\n"
     ]
    },
    {
     "ename": "TypeError",
     "evalue": "not all arguments converted during string formatting",
     "output_type": "error",
     "traceback": [
      "\u001b[1;31m---------------------------------------------------------------------------\u001b[0m",
      "\u001b[1;31mTypeError\u001b[0m                                 Traceback (most recent call last)",
      "Cell \u001b[1;32mIn[33], line 4\u001b[0m\n\u001b[0;32m      1\u001b[0m \u001b[38;5;66;03m#select year\u001b[39;00m\n\u001b[0;32m      2\u001b[0m x \u001b[38;5;241m=\u001b[39m \u001b[38;5;28minput\u001b[39m(\u001b[38;5;124m\"\u001b[39m\u001b[38;5;124mEnter a year:\u001b[39m\u001b[38;5;124m\"\u001b[39m)\n\u001b[1;32m----> 4\u001b[0m \u001b[38;5;28;01mif\u001b[39;00m (x \u001b[38;5;241m%\u001b[39m \u001b[38;5;241m100\u001b[39m \u001b[38;5;241m==\u001b[39m \u001b[38;5;241m0\u001b[39m) \u001b[38;5;129;01mand\u001b[39;00m (x \u001b[38;5;241m%\u001b[39m \u001b[38;5;241m400\u001b[39m \u001b[38;5;241m==\u001b[39m \u001b[38;5;241m0\u001b[39m):\n\u001b[0;32m      5\u001b[0m     \u001b[38;5;28mprint\u001b[39m (\u001b[38;5;124m\"\u001b[39m\u001b[38;5;124mIn\u001b[39m\u001b[38;5;124m\"\u001b[39m,x,\u001b[38;5;124m\"\u001b[39m\u001b[38;5;124mFrebruary has 29 days.\u001b[39m\u001b[38;5;124m\"\u001b[39m)\n\u001b[0;32m      6\u001b[0m \u001b[38;5;28;01melse\u001b[39;00m:\n",
      "\u001b[1;31mTypeError\u001b[0m: not all arguments converted during string formatting"
     ]
    }
   ],
   "source": [
    "#select year\n",
    "x = input(\"Enter a year:\")\n",
    "\n",
    "if (x % 100 == 0) and (x % 400 == 0):\n",
    "    print (\"In\",x,\"Frebruary has 29 days.\")\n",
    "else:\n",
    "    if (x % 4 == 0):\n",
    "        print (\"In\",x,\"Frebruary has 29 days.\")\n",
    "    else:\n",
    "        print (\"In\",x,\"Frebruary has 28 days.\")\n",
    "    "
   ]
  },
  {
   "cell_type": "markdown",
   "id": "e69acd89-2f11-484b-bdcd-9cd1bb9cf1ea",
   "metadata": {},
   "source": [
    "# If the year is divisible by 100, then it is a leap year\n",
    "# If not, then it isn't a leap year"
   ]
  },
  {
   "cell_type": "code",
   "execution_count": null,
   "id": "0905f1d3-7121-419e-ba72-cb57c6ed479c",
   "metadata": {},
   "outputs": [],
   "source": [
    "if "
   ]
  }
 ],
 "metadata": {
  "kernelspec": {
   "display_name": "Python 3 (ipykernel)",
   "language": "python",
   "name": "python3"
  },
  "language_info": {
   "codemirror_mode": {
    "name": "ipython",
    "version": 3
   },
   "file_extension": ".py",
   "mimetype": "text/x-python",
   "name": "python",
   "nbconvert_exporter": "python",
   "pygments_lexer": "ipython3",
   "version": "3.11.7"
  }
 },
 "nbformat": 4,
 "nbformat_minor": 5
}
