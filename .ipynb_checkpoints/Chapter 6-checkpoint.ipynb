{
 "cells": [
  {
   "cell_type": "code",
   "execution_count": 1,
   "id": "2b5154c4-3c80-4fc4-b1bd-507791a86e8b",
   "metadata": {},
   "outputs": [],
   "source": [
    "## Algorithim workbench 1"
   ]
  },
  {
   "cell_type": "code",
   "execution_count": 3,
   "id": "b145ba79-c26a-4a59-a9c5-0cd4ab077546",
   "metadata": {},
   "outputs": [
    {
     "ename": "NameError",
     "evalue": "name 'my_file' is not defined",
     "output_type": "error",
     "traceback": [
      "\u001b[1;31m---------------------------------------------------------------------------\u001b[0m",
      "\u001b[1;31mNameError\u001b[0m                                 Traceback (most recent call last)",
      "Cell \u001b[1;32mIn[3], line 8\u001b[0m\n\u001b[0;32m      4\u001b[0m     my_file\u001b[38;5;241m.\u001b[39mclose()\n\u001b[0;32m      6\u001b[0m main()\n\u001b[1;32m----> 8\u001b[0m file_contents \u001b[38;5;241m=\u001b[39m my_file\u001b[38;5;241m.\u001b[39mread()\n\u001b[0;32m      9\u001b[0m my_file\u001b[38;5;241m.\u001b[39mclose()\n\u001b[0;32m     10\u001b[0m \u001b[38;5;28mprint\u001b[39m(file_contents)\n",
      "\u001b[1;31mNameError\u001b[0m: name 'my_file' is not defined"
     ]
    }
   ],
   "source": [
    "def main():\n",
    "    my_file = open ('my_name.txt','w')\n",
    "    my_file.write('James')\n",
    "    my_file.close()\n",
    "\n",
    "main()\n",
    "\n",
    "file_contents = my_file.read()\n",
    "my_file.close()\n",
    "print(file_contents)\n"
   ]
  },
  {
   "cell_type": "code",
   "execution_count": null,
   "id": "376560ca-24bb-49ae-9947-b699f6883530",
   "metadata": {},
   "outputs": [],
   "source": [
    "## Algorithim workbench 2"
   ]
  },
  {
   "cell_type": "code",
   "execution_count": null,
   "id": "e41280d3-11a9-4147-8361-000a6d50c374",
   "metadata": {},
   "outputs": [],
   "source": [
    "def main():\n",
    "    infile=open('my_name.txt','r')\n",
    "    file_contents = infile.read()\n",
    "    inflie.close()\n",
    "    print(file_contents)\n",
    "    if _name_== '_main_':\n",
    "        \n",
    "        main()\n",
    "    "
   ]
  },
  {
   "cell_type": "code",
   "execution_count": null,
   "id": "1cf411ef-45ec-461a-9d37-be5bbc5105f4",
   "metadata": {},
   "outputs": [],
   "source": [
    "## File display"
   ]
  },
  {
   "cell_type": "code",
   "execution_count": null,
   "id": "b4dcf65c-53fe-4577-9809-99df2c492f79",
   "metadata": {},
   "outputs": [],
   "source": [
    "myfile=open('numbers.txt','r')\n",
    "for line in myfile:\n",
    "    number = int(line) \n",
    "    print(number)\n",
    "    myfile.close()\n"
   ]
  },
  {
   "cell_type": "code",
   "execution_count": null,
   "id": "d6af730d-c313-46c8-8a76-9ded43fef859",
   "metadata": {},
   "outputs": [],
   "source": []
  }
 ],
 "metadata": {
  "kernelspec": {
   "display_name": "Python 3 (ipykernel)",
   "language": "python",
   "name": "python3"
  },
  "language_info": {
   "codemirror_mode": {
    "name": "ipython",
    "version": 3
   },
   "file_extension": ".py",
   "mimetype": "text/x-python",
   "name": "python",
   "nbconvert_exporter": "python",
   "pygments_lexer": "ipython3",
   "version": "3.11.7"
  }
 },
 "nbformat": 4,
 "nbformat_minor": 5
}
