{
 "cells": [
  {
   "cell_type": "code",
   "execution_count": null,
   "id": "2b5154c4-3c80-4fc4-b1bd-507791a86e8b",
   "metadata": {},
   "outputs": [],
   "source": [
    "## Algorithim workbench 1"
   ]
  },
  {
   "cell_type": "code",
   "execution_count": 37,
   "id": "b145ba79-c26a-4a59-a9c5-0cd4ab077546",
   "metadata": {},
   "outputs": [],
   "source": [
    "def main():\n",
    "    my_file=open('my_name.txt','w')\n",
    "    my_file.write(\"James\")\n",
    "    my_file.close()\n",
    "main()\n",
    "  \n",
    "\n"
   ]
  },
  {
   "cell_type": "code",
   "execution_count": null,
   "id": "376560ca-24bb-49ae-9947-b699f6883530",
   "metadata": {},
   "outputs": [],
   "source": [
    "## Algorithim workbench 2"
   ]
  },
  {
   "cell_type": "code",
   "execution_count": 55,
   "id": "e41280d3-11a9-4147-8361-000a6d50c374",
   "metadata": {},
   "outputs": [],
   "source": [
    "def main():\n",
    "    infile=open('my_name.txt','r')\n",
    "    file_contents = infile.read()\n",
    "    inflie.close()\n",
    "    print(file_contents)\n",
    "    if _name_== '_main_':\n",
    "        \n",
    "        main()\n",
    "    "
   ]
  },
  {
   "cell_type": "code",
   "execution_count": null,
   "id": "1cf411ef-45ec-461a-9d37-be5bbc5105f4",
   "metadata": {},
   "outputs": [],
   "source": [
    "## File display"
   ]
  },
  {
   "cell_type": "code",
   "execution_count": null,
   "id": "b4dcf65c-53fe-4577-9809-99df2c492f79",
   "metadata": {},
   "outputs": [],
   "source": []
  }
 ],
 "metadata": {
  "kernelspec": {
   "display_name": "Python 3 (ipykernel)",
   "language": "python",
   "name": "python3"
  },
  "language_info": {
   "codemirror_mode": {
    "name": "ipython",
    "version": 3
   },
   "file_extension": ".py",
   "mimetype": "text/x-python",
   "name": "python",
   "nbconvert_exporter": "python",
   "pygments_lexer": "ipython3",
   "version": "3.11.7"
  }
 },
 "nbformat": 4,
 "nbformat_minor": 5
}
