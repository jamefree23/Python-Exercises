{
 "cells": [
  {
   "cell_type": "code",
   "execution_count": 1,
   "id": "2b5154c4-3c80-4fc4-b1bd-507791a86e8b",
   "metadata": {},
   "outputs": [],
   "source": [
    "## Algorithim workbench 1"
   ]
  },
  {
   "cell_type": "code",
   "execution_count": 7,
   "id": "b145ba79-c26a-4a59-a9c5-0cd4ab077546",
   "metadata": {},
   "outputs": [],
   "source": [
    "def main():\n",
    "    my_file = open ('my_name.txt','w')\n",
    "    my_file.write('James')\n",
    "    my_file.close()\n",
    "\n",
    "main()\n",
    "\n",
    "\n"
   ]
  },
  {
   "cell_type": "code",
   "execution_count": null,
   "id": "376560ca-24bb-49ae-9947-b699f6883530",
   "metadata": {},
   "outputs": [],
   "source": [
    "## Algorithim workbench 2"
   ]
  },
  {
   "cell_type": "code",
   "execution_count": 11,
   "id": "e41280d3-11a9-4147-8361-000a6d50c374",
   "metadata": {},
   "outputs": [
    {
     "name": "stdout",
     "output_type": "stream",
     "text": [
      "James\n"
     ]
    }
   ],
   "source": [
    "def main():\n",
    "    infile=open('my_name.txt','r')\n",
    "    file_contents = infile.read()\n",
    "    infile.close()\n",
    "    print(file_contents)\n",
    "\n",
    "        \n",
    "main()\n",
    "    "
   ]
  },
  {
   "cell_type": "code",
   "execution_count": null,
   "id": "1cf411ef-45ec-461a-9d37-be5bbc5105f4",
   "metadata": {},
   "outputs": [],
   "source": [
    "## File display"
   ]
  },
  {
   "cell_type": "code",
   "execution_count": 65,
   "id": "b4dcf65c-53fe-4577-9809-99df2c492f79",
   "metadata": {},
   "outputs": [
    {
     "name": "stdout",
     "output_type": "stream",
     "text": [
      "4\n",
      "5\n",
      "6\n",
      "9\n",
      "12\n",
      "17\n",
      "\n"
     ]
    }
   ],
   "source": [
    "def main():\n",
    "    myfile=open('numbers.txt','w')\n",
    "    myfile.write(str(4) +'\\n')\n",
    "    myfile.write(str(5) +'\\n')\n",
    "    myfile.write(str(6) +'\\n')\n",
    "    myfile.write(str(9) +'\\n')   \n",
    "    myfile.write(str(12) +'\\n')\n",
    "    myfile.write(str(17) +'\\n')    \n",
    "    myfile.close()\n",
    "main ()\n",
    "\n",
    "myfile=open('numbers.txt','r')\n",
    "file_contents = myfile.read()\n",
    "myfile.close()\n",
    "print (file_contents)"
   ]
  },
  {
   "cell_type": "code",
   "execution_count": null,
   "id": "d6af730d-c313-46c8-8a76-9ded43fef859",
   "metadata": {},
   "outputs": [],
   "source": [
    "## Programming exersice 6"
   ]
  },
  {
   "cell_type": "code",
   "execution_count": 45,
   "id": "047ed3df-a37d-4e3e-a6ef-dad7fc7824bb",
   "metadata": {},
   "outputs": [
    {
     "name": "stdout",
     "output_type": "stream",
     "text": [
      "8.833333333333334\n"
     ]
    }
   ],
   "source": [
    "def main():\n",
    "    myfile=open('numbers.txt','r')\n",
    "    num1 = int(myfile.readline())\n",
    "    num2 = int(myfile.readline())\n",
    "    num3 = int(myfile.readline())\n",
    "    num4 = int(myfile.readline())\n",
    "    num5 = int(myfile.readline())\n",
    "    num6 = int(myfile.readline())\n",
    "    total = num1 + num2 + num3 + num4 + num5 + num6\n",
    "    average = total / 6\n",
    "    myfile.close()\n",
    "    print(average)\n",
    "main()"
   ]
  },
  {
   "cell_type": "code",
   "execution_count": null,
   "id": "e4fb8486-d81f-4769-8ffa-24610ea7f21d",
   "metadata": {},
   "outputs": [],
   "source": [
    "## Programing exercise 9"
   ]
  },
  {
   "cell_type": "markdown",
   "id": "07005735-5faf-4f76-a6a5-57ea59730902",
   "metadata": {},
   "source": [
    "## to "
   ]
  },
  {
   "cell_type": "code",
   "execution_count": 63,
   "id": "4b299da1-c129-40a5-bacd-d44d38dbeff5",
   "metadata": {},
   "outputs": [
    {
     "name": "stdout",
     "output_type": "stream",
     "text": [
      "ERROR: File cannot be read\n"
     ]
    }
   ],
   "source": [
    "def main():\n",
    "    try:\n",
    "        myfile=open('number.txt','r')\n",
    "        num1 = int(myfile.readline())\n",
    "        num2 = int(myfile.readline())\n",
    "        num3 = int(myfile.readline())\n",
    "        num4 = int(myfile.readline())\n",
    "        num5 = int(myfile.readline())\n",
    "        num6 = \"g\"\n",
    "        total = num1 + num2 + num3 + num4 + num5 + num6\n",
    "        average = total / 6\n",
    "        myfile.close()\n",
    "        print(average)\n",
    "    except FileNotFoundError:\n",
    "        print(\"ERROR: File cannot be read\")\n",
    "    except:\n",
    "        print(\"ERROR: All values must be integers.\")\n",
    "    \n",
    "    \n",
    "main()"
   ]
  },
  {
   "cell_type": "code",
   "execution_count": null,
   "id": "488b3bc3-5334-41e9-b85c-2d6412ea0f55",
   "metadata": {},
   "outputs": [],
   "source": [
    "## programming exercise 5"
   ]
  },
  {
   "cell_type": "code",
   "execution_count": 67,
   "id": "5c798dc7-0741-4ecb-afc3-09958e29e3b5",
   "metadata": {},
   "outputs": [
    {
     "name": "stdout",
     "output_type": "stream",
     "text": [
      "53\n"
     ]
    }
   ],
   "source": [
    "def main():\n",
    "    myfile=open('numbers.txt','r')\n",
    "    num1 = int(myfile.readline())\n",
    "    num2 = int(myfile.readline())\n",
    "    num3 = int(myfile.readline())\n",
    "    num4 = int(myfile.readline())\n",
    "    num5 = int(myfile.readline())\n",
    "    num6 = int(myfile.readline())\n",
    "    total = num1 + num2 + num3 + num4 + num5 + num6\n",
    "    myfile.close()\n",
    "    print(total)\n",
    "main()"
   ]
  },
  {
   "cell_type": "code",
   "execution_count": null,
   "id": "3a1fd23d-f9cc-40f3-8161-ac05d00610c4",
   "metadata": {},
   "outputs": [],
   "source": []
  }
 ],
 "metadata": {
  "kernelspec": {
   "display_name": "Python 3 (ipykernel)",
   "language": "python",
   "name": "python3"
  },
  "language_info": {
   "codemirror_mode": {
    "name": "ipython",
    "version": 3
   },
   "file_extension": ".py",
   "mimetype": "text/x-python",
   "name": "python",
   "nbconvert_exporter": "python",
   "pygments_lexer": "ipython3",
   "version": "3.11.7"
  }
 },
 "nbformat": 4,
 "nbformat_minor": 5
}
