{
 "cells": [
  {
   "cell_type": "code",
   "execution_count": null,
   "id": "408314ff-1444-4b33-bb1b-2f86d32cbc65",
   "metadata": {},
   "outputs": [],
   "source": [
    "## Algorithim work bench 1"
   ]
  },
  {
   "cell_type": "code",
   "execution_count": null,
   "id": "cae98de3-aa49-44c9-a54c-1a1ece37aad7",
   "metadata": {},
   "outputs": [],
   "source": [
    "## Listng names of the funtion and calling the list"
   ]
  },
  {
   "cell_type": "code",
   "execution_count": 5,
   "id": "8b821de0-0eeb-4178-b077-fafd1f437ec9",
   "metadata": {},
   "outputs": [
    {
     "name": "stdout",
     "output_type": "stream",
     "text": [
      "['Einstien', 'Newton', 'Coprenicus', 'Kepler']\n"
     ]
    }
   ],
   "source": [
    "names = ['Einstien', 'Newton', 'Coprenicus', 'Kepler']\n",
    "print(names)"
   ]
  },
  {
   "cell_type": "code",
   "execution_count": null,
   "id": "ad08c861-8334-46c3-8c09-95dc5d70f08f",
   "metadata": {},
   "outputs": [],
   "source": [
    "## Algorithim workbench 2"
   ]
  },
  {
   "cell_type": "code",
   "execution_count": null,
   "id": "d11bd0d1-6e6c-49ac-923c-23cb754bec92",
   "metadata": {},
   "outputs": [],
   "source": [
    "## Adding my list to a for loop"
   ]
  },
  {
   "cell_type": "code",
   "execution_count": 7,
   "id": "9ce9461a-edf1-4b81-b59f-b1bb65081bad",
   "metadata": {},
   "outputs": [
    {
     "name": "stdout",
     "output_type": "stream",
     "text": [
      "Einstien\n",
      "Newton\n",
      "Coprenicus\n",
      "Kepler\n"
     ]
    }
   ],
   "source": [
    "names = ['Einstien', 'Newton', 'Coprenicus', 'Kepler']\n",
    "for name in names:\n",
    "    print(name)"
   ]
  },
  {
   "cell_type": "code",
   "execution_count": 141,
   "id": "effdb900-e104-46be-85c3-dd8bb3745978",
   "metadata": {},
   "outputs": [
    {
     "name": "stdin",
     "output_type": "stream",
     "text": [
      "Enter amount made on Monday 5\n",
      "Enter amount made on tuesday 3\n",
      "Enter amount made on wensday 6\n",
      "Enter amount made on thursday 3\n",
      "Enter amount made on Friday 3\n"
     ]
    },
    {
     "name": "stdout",
     "output_type": "stream",
     "text": [
      "The total of the numbers is 20.\n"
     ]
    }
   ],
   "source": [
    "list = []\n",
    "\n",
    "def main():\n",
    "    amount1=int(input(\"Enter amount made on Monday\"))\n",
    "    list.append(amount1)\n",
    "    amount2=int(input(\"Enter amount made on Tuesday\"))\n",
    "    list.append(amount2)\n",
    "    amount3=int(input(\"Enter amount made on Wensday\"))\n",
    "    list.append(amount3)\n",
    "    amount4=int(input(\"Enter amount made on Thursday\"))\n",
    "    list.append(amount4)\n",
    "    amount5=int(input(\"Enter amount made on Friday\"))\n",
    "    list.append(amount5)\n",
    "    total = 0 \n",
    "    for value in list:\n",
    "        total = total + value\n",
    "    print (f'The total of the numbers is {total}.')\n",
    "\n",
    "if __name__ == '__main__':\n",
    "    main()\n",
    "\n",
    "\n",
    "      "
   ]
  },
  {
   "cell_type": "code",
   "execution_count": 145,
   "id": "6c8e026e-419e-43d1-88d8-860ef12df93c",
   "metadata": {},
   "outputs": [
    {
     "name": "stdout",
     "output_type": "stream",
     "text": [
      "Here are your lottery numbers:\n",
      "2\n",
      "0\n",
      "0\n",
      "0\n",
      "0\n",
      "0\n",
      "0\n",
      "Here are your lottery numbers:\n",
      "2\n",
      "1\n",
      "0\n",
      "0\n",
      "0\n",
      "0\n",
      "0\n",
      "Here are your lottery numbers:\n",
      "2\n",
      "1\n",
      "1\n",
      "0\n",
      "0\n",
      "0\n",
      "0\n",
      "Here are your lottery numbers:\n",
      "2\n",
      "1\n",
      "1\n",
      "2\n",
      "0\n",
      "0\n",
      "0\n",
      "Here are your lottery numbers:\n",
      "2\n",
      "1\n",
      "1\n",
      "2\n",
      "0\n",
      "0\n",
      "0\n",
      "Here are your lottery numbers:\n",
      "2\n",
      "1\n",
      "1\n",
      "2\n",
      "0\n",
      "0\n",
      "0\n",
      "Here are your lottery numbers:\n",
      "2\n",
      "1\n",
      "1\n",
      "2\n",
      "0\n",
      "0\n",
      "8\n"
     ]
    }
   ],
   "source": [
    "import random \n",
    "\n",
    "MAX_DIGITS=7\n",
    "START=0\n",
    "END=9\n",
    "\n",
    "def main():\n",
    "    numbers = [0] * 7\n",
    "    for index in range(MAX_DIGITS):\n",
    "        numbers[index] = random.randint (START, END)\n",
    "        print('Here are your lottery numbers:')\n",
    "        for index in range(MAX_DIGITS):\n",
    "            print(numbers[index], end='')\n",
    "            print()\n",
    "\n",
    "main()\n",
    "    "
   ]
  },
  {
   "cell_type": "code",
   "execution_count": null,
   "id": "6d830aca-cab1-49b4-a531-9900f369a169",
   "metadata": {},
   "outputs": [],
   "source": [
    "##Expense pie chart"
   ]
  }
 ],
 "metadata": {
  "kernelspec": {
   "display_name": "Python 3 (ipykernel)",
   "language": "python",
   "name": "python3"
  },
  "language_info": {
   "codemirror_mode": {
    "name": "ipython",
    "version": 3
   },
   "file_extension": ".py",
   "mimetype": "text/x-python",
   "name": "python",
   "nbconvert_exporter": "python",
   "pygments_lexer": "ipython3",
   "version": "3.11.7"
  }
 },
 "nbformat": 4,
 "nbformat_minor": 5
}
