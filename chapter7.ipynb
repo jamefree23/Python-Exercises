{
 "cells": [
  {
   "cell_type": "code",
   "execution_count": null,
   "id": "408314ff-1444-4b33-bb1b-2f86d32cbc65",
   "metadata": {},
   "outputs": [],
   "source": [
    "## Algorithim work bench 1"
   ]
  },
  {
   "cell_type": "code",
   "execution_count": null,
   "id": "cae98de3-aa49-44c9-a54c-1a1ece37aad7",
   "metadata": {},
   "outputs": [],
   "source": [
    "## Listng names of the funtion and calling the list"
   ]
  },
  {
   "cell_type": "code",
   "execution_count": 5,
   "id": "8b821de0-0eeb-4178-b077-fafd1f437ec9",
   "metadata": {},
   "outputs": [
    {
     "name": "stdout",
     "output_type": "stream",
     "text": [
      "['Einstien', 'Newton', 'Coprenicus', 'Kepler']\n"
     ]
    }
   ],
   "source": [
    "names = ['Einstien', 'Newton', 'Coprenicus', 'Kepler']\n",
    "print(names)"
   ]
  },
  {
   "cell_type": "code",
   "execution_count": null,
   "id": "9ce9461a-edf1-4b81-b59f-b1bb65081bad",
   "metadata": {},
   "outputs": [],
   "source": []
  }
 ],
 "metadata": {
  "kernelspec": {
   "display_name": "Python 3 (ipykernel)",
   "language": "python",
   "name": "python3"
  },
  "language_info": {
   "codemirror_mode": {
    "name": "ipython",
    "version": 3
   },
   "file_extension": ".py",
   "mimetype": "text/x-python",
   "name": "python",
   "nbconvert_exporter": "python",
   "pygments_lexer": "ipython3",
   "version": "3.11.7"
  }
 },
 "nbformat": 4,
 "nbformat_minor": 5
}
