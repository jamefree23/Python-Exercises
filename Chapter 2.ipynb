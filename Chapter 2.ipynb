{
 "cells": [
  {
   "cell_type": "markdown",
   "id": "5258004d-a4c9-4b5a-889f-bb545aae1328",
   "metadata": {},
   "source": [
    "# Chapter 2\n"
   ]
  },
  {
   "cell_type": "markdown",
   "id": "e90f5f9c-b909-43d6-adce-862fd7c9246a",
   "metadata": {},
   "source": [
    "## Algorithm\n",
    "\n"
   ]
  },
  {
   "cell_type": "code",
   "execution_count": null,
   "id": "5dec55d8-345a-4428-ac51-ad9d466261f9",
   "metadata": {},
   "outputs": [],
   "source": [
    "num=99\n",
    "num=5\n",
    "print(num)"
   ]
  },
  {
   "cell_type": "markdown",
   "id": "8d7ed755-cf21-445a-855e-df659927d2fd",
   "metadata": {},
   "source": [
    "I believe that the output will be 5\n",
    "num=5\n"
   ]
  },
  {
   "cell_type": "code",
   "execution_count": null,
   "id": "a60dd233-ee45-4ac5-8bec-096b8324db7b",
   "metadata": {},
   "outputs": [],
   "source": []
  }
 ],
 "metadata": {
  "kernelspec": {
   "display_name": "Python 3 (ipykernel)",
   "language": "python",
   "name": "python3"
  },
  "language_info": {
   "codemirror_mode": {
    "name": "ipython",
    "version": 3
   },
   "file_extension": ".py",
   "mimetype": "text/x-python",
   "name": "python",
   "nbconvert_exporter": "python",
   "pygments_lexer": "ipython3",
   "version": "3.11.7"
  }
 },
 "nbformat": 4,
 "nbformat_minor": 5
}
