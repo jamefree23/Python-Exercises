{
 "cells": [
  {
   "cell_type": "markdown",
   "id": "5258004d-a4c9-4b5a-889f-bb545aae1328",
   "metadata": {},
   "source": [
    "# Chapter 2\n"
   ]
  },
  {
   "cell_type": "markdown",
   "id": "e90f5f9c-b909-43d6-adce-862fd7c9246a",
   "metadata": {},
   "source": [
    "## Algorithm 9\n",
    "I was presented a print funtion, and then in one cell I made a predection of what the output would be. Then I ran the code to get the output\n"
   ]
  },
  {
   "cell_type": "markdown",
   "id": "f854c635-7d9f-4524-9c95-e071c2a729f7",
   "metadata": {},
   "source": []
  },
  {
   "cell_type": "code",
   "execution_count": 1,
   "id": "5dec55d8-345a-4428-ac51-ad9d466261f9",
   "metadata": {},
   "outputs": [
    {
     "name": "stdout",
     "output_type": "stream",
     "text": [
      "5\n"
     ]
    }
   ],
   "source": [
    "num=99\n",
    "num=5\n",
    "print(num)"
   ]
  },
  {
   "cell_type": "markdown",
   "id": "8d7ed755-cf21-445a-855e-df659927d2fd",
   "metadata": {},
   "source": [
    "I believe that the output will be 5\n",
    "num=5\n",
    "The print funtion displayed the number 5 as the output."
   ]
  },
  {
   "cell_type": "markdown",
   "id": "4243b8e2-fabc-406b-a927-18860d57e194",
   "metadata": {},
   "source": [
    "## Exercise 3\n",
    "This program will calculate the numbers of acres from a user input in square feet. The tools used include the \"input\" and \"divide\" syntax. "
   ]
  },
  {
   "cell_type": "code",
   "execution_count": 14,
   "id": "27442a03-796d-4c89-84d6-15e4b12f3aa9",
   "metadata": {},
   "outputs": [
    {
     "name": "stdin",
     "output_type": "stream",
     "text": [
      "For equivalent acres, please enter total square feet: 123\n"
     ]
    },
    {
     "name": "stdout",
     "output_type": "stream",
     "text": [
      "The total acres =\n",
      "0.0028236914600550966\n"
     ]
    }
   ],
   "source": [
    "\n",
    "sqft = int(input(\"For equivalent acres, please enter total square feet:\"))\n",
    "acres = sqft / 43560\n",
    "print (\"The total acres =\") \n",
    "print (acres)"
   ]
  },
  {
   "cell_type": "code",
   "execution_count": null,
   "id": "3bfa1a48-289a-4167-b43e-431f72128871",
   "metadata": {},
   "outputs": [],
   "source": []
  }
 ],
 "metadata": {
  "kernelspec": {
   "display_name": "Python 3 (ipykernel)",
   "language": "python",
   "name": "python3"
  },
  "language_info": {
   "codemirror_mode": {
    "name": "ipython",
    "version": 3
   },
   "file_extension": ".py",
   "mimetype": "text/x-python",
   "name": "python",
   "nbconvert_exporter": "python",
   "pygments_lexer": "ipython3",
   "version": "3.11.7"
  }
 },
 "nbformat": 4,
 "nbformat_minor": 5
}
