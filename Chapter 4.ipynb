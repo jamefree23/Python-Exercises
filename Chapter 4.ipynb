{
 "cells": [
  {
   "cell_type": "code",
   "execution_count": 1,
   "id": "0109b91d-5201-4a78-b31f-570da5819c01",
   "metadata": {},
   "outputs": [],
   "source": [
    "# Algorithim Workbench 1"
   ]
  },
  {
   "cell_type": "code",
   "execution_count": null,
   "id": "c8b99061-08e5-4126-907b-0b56247e33ca",
   "metadata": {},
   "outputs": [],
   "source": [
    "#While loop for a numbers product"
   ]
  },
  {
   "cell_type": "code",
   "execution_count": 3,
   "id": "de38220b-e3f0-451c-b20c-28868e418f4e",
   "metadata": {},
   "outputs": [
    {
     "name": "stdin",
     "output_type": "stream",
     "text": [
      "Enter your number 5\n"
     ]
    },
    {
     "name": "stdout",
     "output_type": "stream",
     "text": [
      "Your product is 50\n"
     ]
    },
    {
     "name": "stdin",
     "output_type": "stream",
     "text": [
      "Enter your number 6\n"
     ]
    },
    {
     "name": "stdout",
     "output_type": "stream",
     "text": [
      "Your product is 60\n"
     ]
    },
    {
     "name": "stdin",
     "output_type": "stream",
     "text": [
      "Enter your number 7\n"
     ]
    },
    {
     "name": "stdout",
     "output_type": "stream",
     "text": [
      "Your product is 70\n"
     ]
    },
    {
     "name": "stdin",
     "output_type": "stream",
     "text": [
      "Enter your number 99\n"
     ]
    },
    {
     "name": "stdout",
     "output_type": "stream",
     "text": [
      "Your product is 990\n",
      "Your product has exceeded 100 exit loop\n"
     ]
    }
   ],
   "source": [
    "\n",
    "\n",
    "product = 0\n",
    "\n",
    "while product < 100:    \n",
    "    number = int(input(\"Enter your number\"))\n",
    "    product = number * 10\n",
    "    print(f'Your product is {product}')\n",
    "    \n",
    "print(\"Your product has exceeded 100; exit loop\")\n",
    "\n",
    "    "
   ]
  },
  {
   "cell_type": "code",
   "execution_count": null,
   "id": "9daaec0e-b6cf-4e82-800f-c7555aa3b9a9",
   "metadata": {},
   "outputs": [],
   "source": []
  }
 ],
 "metadata": {
  "kernelspec": {
   "display_name": "Python 3 (ipykernel)",
   "language": "python",
   "name": "python3"
  },
  "language_info": {
   "codemirror_mode": {
    "name": "ipython",
    "version": 3
   },
   "file_extension": ".py",
   "mimetype": "text/x-python",
   "name": "python",
   "nbconvert_exporter": "python",
   "pygments_lexer": "ipython3",
   "version": "3.11.7"
  }
 },
 "nbformat": 4,
 "nbformat_minor": 5
}
