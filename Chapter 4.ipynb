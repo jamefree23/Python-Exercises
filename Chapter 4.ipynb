{
 "cells": [
  {
   "cell_type": "code",
   "execution_count": 1,
   "id": "0109b91d-5201-4a78-b31f-570da5819c01",
   "metadata": {},
   "outputs": [],
   "source": [
    "# Algorithim Workbench 1"
   ]
  },
  {
   "cell_type": "code",
   "execution_count": null,
   "id": "cec7a558-ea01-46b1-9872-d6862767d873",
   "metadata": {},
   "outputs": [],
   "source": []
  },
  {
   "cell_type": "code",
   "execution_count": null,
   "id": "a5669c40-1e51-4153-bd36-86e9f6800860",
   "metadata": {},
   "outputs": [],
   "source": []
  },
  {
   "cell_type": "code",
   "execution_count": null,
   "id": "c8b99061-08e5-4126-907b-0b56247e33ca",
   "metadata": {},
   "outputs": [],
   "source": [
    "#While loop for a numbers product"
   ]
  },
  {
   "cell_type": "code",
   "execution_count": null,
   "id": "b228a90a-12db-4c9c-b2f6-136cc95f66d8",
   "metadata": {},
   "outputs": [],
   "source": []
  },
  {
   "cell_type": "code",
   "execution_count": null,
   "id": "8d448cc7-511b-498b-9eca-5eef3264130d",
   "metadata": {},
   "outputs": [],
   "source": []
  },
  {
   "cell_type": "code",
   "execution_count": null,
   "id": "eca19553-452a-453a-984d-ef838f8d9df7",
   "metadata": {},
   "outputs": [],
   "source": []
  },
  {
   "cell_type": "markdown",
   "id": "587d8b1e-1991-48ef-b6eb-0c7d3b82d426",
   "metadata": {},
   "source": [
    "\n",
    "\n",
    "product = 0\n",
    "\n",
    "while product < 100:    \n",
    "    number = int(input(\"Enter your number\"))\n",
    "    product = number * 10\n",
    "    print(f'Your product is {product}')\n",
    "    \n",
    "print(\"Your product has exceeded 100; exit loop\")\n",
    "\n",
    "    "
   ]
  },
  {
   "cell_type": "markdown",
   "id": "d20625a5-5ccf-400b-b1a0-80c21b0f3848",
   "metadata": {},
   "source": [
    "#Summary, I first put the product calculation outside of the while loop which had to be changed. Then it kept looping the number I entered into the text box instead of finding the product of the number and looping the question. Also took me a while to realize that I had to use the int(input. The final problem was it would print my exceeding number statement even if the number didn't exceed the limit. It would print the last value before the loop exited, so you couldn't say that the value was less that 100 in text. "
   ]
  },
  {
   "cell_type": "code",
   "execution_count": null,
   "id": "20d996fc-62bb-43c6-b576-bc6cc70dfaf3",
   "metadata": {},
   "outputs": [],
   "source": []
  },
  {
   "cell_type": "code",
   "execution_count": null,
   "id": "d8ca8a4e-56c6-49c7-918b-4ba7816c99b2",
   "metadata": {},
   "outputs": [],
   "source": []
  },
  {
   "cell_type": "code",
   "execution_count": null,
   "id": "d86a90c5-698c-42e4-bb66-974f543b1ae6",
   "metadata": {},
   "outputs": [],
   "source": []
  },
  {
   "cell_type": "code",
   "execution_count": null,
   "id": "fb6559b7-9547-416f-af48-19edd3638441",
   "metadata": {},
   "outputs": [],
   "source": []
  },
  {
   "cell_type": "code",
   "execution_count": null,
   "id": "fdb5a3b4-0ff2-4bfc-a20c-c3af5d7ebea4",
   "metadata": {},
   "outputs": [],
   "source": []
  },
  {
   "cell_type": "code",
   "execution_count": null,
   "id": "c954f94f-2dc7-49c0-af13-34f471b821a5",
   "metadata": {},
   "outputs": [],
   "source": []
  },
  {
   "cell_type": "code",
   "execution_count": null,
   "id": "cdeae824-24a2-41b1-9efe-18395abf3597",
   "metadata": {},
   "outputs": [],
   "source": []
  },
  {
   "cell_type": "code",
   "execution_count": null,
   "id": "de3341c1-fd02-4b8f-a26a-5bc0095e438f",
   "metadata": {},
   "outputs": [],
   "source": []
  },
  {
   "cell_type": "code",
   "execution_count": null,
   "id": "380e9a6e-9454-4ce9-88ef-5b61bf2c6ad5",
   "metadata": {},
   "outputs": [],
   "source": []
  },
  {
   "cell_type": "code",
   "execution_count": null,
   "id": "23d3fed5-b9fb-49f2-a50e-cb4594dd2ea8",
   "metadata": {},
   "outputs": [],
   "source": []
  },
  {
   "cell_type": "code",
   "execution_count": null,
   "id": "117c6b58-9800-46ed-b533-fa0b76727e13",
   "metadata": {},
   "outputs": [],
   "source": []
  },
  {
   "cell_type": "code",
   "execution_count": null,
   "id": "4a0bffa3-ad32-4f00-9086-e89e8d5bc0e0",
   "metadata": {},
   "outputs": [],
   "source": []
  },
  {
   "cell_type": "code",
   "execution_count": null,
   "id": "9a760990-c745-4307-a00d-2a8c93c1b427",
   "metadata": {},
   "outputs": [],
   "source": []
  },
  {
   "cell_type": "code",
   "execution_count": null,
   "id": "4a5a042a-1552-4a48-b05e-6adc58066f33",
   "metadata": {},
   "outputs": [],
   "source": []
  },
  {
   "cell_type": "code",
   "execution_count": null,
   "id": "6ae22a3e-a665-4115-b5b6-bc508501f342",
   "metadata": {},
   "outputs": [],
   "source": []
  },
  {
   "cell_type": "code",
   "execution_count": null,
   "id": "dbca3f20-ef17-4334-8efd-d5eecf529119",
   "metadata": {},
   "outputs": [],
   "source": []
  },
  {
   "cell_type": "code",
   "execution_count": null,
   "id": "38b356b4-176d-4927-b2fa-342f703655dd",
   "metadata": {},
   "outputs": [],
   "source": []
  },
  {
   "cell_type": "code",
   "execution_count": null,
   "id": "93a23cd0-0d42-4506-930e-2f8afcfb745b",
   "metadata": {},
   "outputs": [],
   "source": []
  },
  {
   "cell_type": "code",
   "execution_count": null,
   "id": "1e4b4d38-c1b3-4928-95eb-9e722927f7cc",
   "metadata": {},
   "outputs": [],
   "source": []
  },
  {
   "cell_type": "code",
   "execution_count": null,
   "id": "d00a0a6e-6749-41c5-af5d-bca9ce74f798",
   "metadata": {},
   "outputs": [],
   "source": []
  },
  {
   "cell_type": "code",
   "execution_count": null,
   "id": "07ff8be7-8af7-4168-ac9a-df254263fafb",
   "metadata": {},
   "outputs": [],
   "source": []
  },
  {
   "cell_type": "code",
   "execution_count": null,
   "id": "b38d3331-e59f-4061-b18b-1c1de5482708",
   "metadata": {},
   "outputs": [],
   "source": []
  },
  {
   "cell_type": "code",
   "execution_count": null,
   "id": "e7263113-b2f7-4068-b14e-9cb40af340c4",
   "metadata": {},
   "outputs": [],
   "source": []
  },
  {
   "cell_type": "code",
   "execution_count": null,
   "id": "c68e9aa2-729f-4804-a506-b1d3adec98c9",
   "metadata": {},
   "outputs": [],
   "source": []
  },
  {
   "cell_type": "code",
   "execution_count": null,
   "id": "19f35355-0c9a-44f2-afc0-35e3aed14127",
   "metadata": {},
   "outputs": [],
   "source": []
  },
  {
   "cell_type": "code",
   "execution_count": null,
   "id": "a4fec5a7-5b4d-42b8-bc3f-cee14dd18a51",
   "metadata": {},
   "outputs": [],
   "source": []
  },
  {
   "cell_type": "code",
   "execution_count": null,
   "id": "ec4fe266-2ef8-484c-8804-8a8eb7f892a1",
   "metadata": {},
   "outputs": [],
   "source": []
  },
  {
   "cell_type": "code",
   "execution_count": null,
   "id": "2184c56d-ca4d-4669-acf2-01d9f49d49dc",
   "metadata": {},
   "outputs": [],
   "source": []
  },
  {
   "cell_type": "code",
   "execution_count": null,
   "id": "f8228d99-488f-4e2b-a013-68b003bfcf83",
   "metadata": {},
   "outputs": [],
   "source": []
  },
  {
   "cell_type": "markdown",
   "id": "c7994478-50e5-414f-a7d2-7002e4aab0e8",
   "metadata": {},
   "source": [
    "# Alogrithim Workbench 2"
   ]
  },
  {
   "cell_type": "code",
   "execution_count": null,
   "id": "52c86d17-048f-479d-bb0e-013d85404c65",
   "metadata": {},
   "outputs": [],
   "source": []
  },
  {
   "cell_type": "code",
   "execution_count": 20,
   "id": "5989f79b-0d75-4397-aab8-0a219dcb8bc0",
   "metadata": {},
   "outputs": [
    {
     "name": "stdout",
     "output_type": "stream",
     "text": [
      "10\n",
      "20\n",
      "30\n",
      "40\n",
      "50\n",
      "60\n",
      "70\n",
      "80\n",
      "90\n",
      "100\n",
      "110\n",
      "120\n",
      "130\n",
      "140\n",
      "150\n",
      "160\n",
      "170\n",
      "180\n",
      "190\n",
      "200\n",
      "210\n",
      "220\n",
      "230\n",
      "240\n",
      "250\n",
      "260\n",
      "270\n",
      "280\n",
      "290\n",
      "300\n",
      "310\n",
      "320\n",
      "330\n",
      "340\n",
      "350\n",
      "360\n",
      "370\n",
      "380\n",
      "390\n",
      "400\n",
      "410\n",
      "420\n",
      "430\n",
      "440\n",
      "450\n",
      "460\n",
      "470\n",
      "480\n",
      "490\n",
      "500\n",
      "510\n",
      "520\n",
      "530\n",
      "540\n",
      "550\n",
      "560\n",
      "570\n",
      "580\n",
      "590\n",
      "600\n",
      "610\n",
      "620\n",
      "630\n",
      "640\n",
      "650\n",
      "660\n",
      "670\n",
      "680\n",
      "690\n",
      "700\n",
      "710\n",
      "720\n",
      "730\n",
      "740\n",
      "750\n",
      "760\n",
      "770\n",
      "780\n",
      "790\n",
      "800\n",
      "810\n",
      "820\n",
      "830\n",
      "840\n",
      "850\n",
      "860\n",
      "870\n",
      "880\n",
      "890\n",
      "900\n",
      "910\n",
      "920\n",
      "930\n",
      "940\n",
      "950\n",
      "960\n",
      "970\n",
      "980\n",
      "990\n",
      "1000\n"
     ]
    }
   ],
   "source": [
    "##Incorrect code, correct answer below\n",
    "x=0\n",
    "\n",
    "while x < 1000:\n",
    "    for number in range (0,100):\n",
    "        x=x+10  \n",
    "        print (x)"
   ]
  },
  {
   "cell_type": "code",
   "execution_count": 24,
   "id": "642c1b7d-cab6-40cd-86eb-8e6e9aed45d0",
   "metadata": {},
   "outputs": [
    {
     "name": "stdout",
     "output_type": "stream",
     "text": [
      "10\n",
      "20\n",
      "30\n",
      "40\n",
      "50\n",
      "60\n",
      "70\n",
      "80\n",
      "90\n",
      "100\n",
      "110\n",
      "120\n",
      "130\n",
      "140\n",
      "150\n",
      "160\n",
      "170\n",
      "180\n",
      "190\n",
      "200\n",
      "210\n",
      "220\n",
      "230\n",
      "240\n",
      "250\n",
      "260\n",
      "270\n",
      "280\n",
      "290\n",
      "300\n",
      "310\n",
      "320\n",
      "330\n",
      "340\n",
      "350\n",
      "360\n",
      "370\n",
      "380\n",
      "390\n",
      "400\n",
      "410\n",
      "420\n",
      "430\n",
      "440\n",
      "450\n",
      "460\n",
      "470\n",
      "480\n",
      "490\n",
      "500\n",
      "510\n",
      "520\n",
      "530\n",
      "540\n",
      "550\n",
      "560\n",
      "570\n",
      "580\n",
      "590\n",
      "600\n",
      "610\n",
      "620\n",
      "630\n",
      "640\n",
      "650\n",
      "660\n",
      "670\n",
      "680\n",
      "690\n",
      "700\n",
      "710\n",
      "720\n",
      "730\n",
      "740\n",
      "750\n",
      "760\n",
      "770\n",
      "780\n",
      "790\n",
      "800\n",
      "810\n",
      "820\n",
      "830\n",
      "840\n",
      "850\n",
      "860\n",
      "870\n",
      "880\n",
      "890\n",
      "900\n",
      "910\n",
      "920\n",
      "930\n",
      "940\n",
      "950\n",
      "960\n",
      "970\n",
      "980\n",
      "990\n",
      "1000\n"
     ]
    }
   ],
   "source": [
    "x=0\n",
    "\n",
    "for x in range (0,1000):\n",
    "    x = x + 10\n",
    "    if x % 10 == 0:\n",
    "        print (x)\n",
    "    "
   ]
  },
  {
   "cell_type": "markdown",
   "id": "87dc2f82-51ec-4ed5-9004-9c80e12c791c",
   "metadata": {},
   "source": [
    "# Summary, I easily got into count out all the numbers by one, then I had trouble with getting it to count by 10. I inserted x=x+10 which got it to count by tens, but it counted all they way up by ten thousand. Then I switched 1000 with 100 in my range function, then i counted correctly. After I finished my first set I realized that my while loop was doing all of the work becasue I deleted my for loop and the code still ran. Then I re implemented it only using a for loop."
   ]
  },
  {
   "cell_type": "code",
   "execution_count": null,
   "id": "d960daa2-db2f-4ab7-a0ca-92e72ba45c7e",
   "metadata": {
    "jp-MarkdownHeadingCollapsed": true
   },
   "outputs": [],
   "source": [
    "# Programming exercise 1"
   ]
  },
  {
   "cell_type": "code",
   "execution_count": 14,
   "id": "362b2f6b-fed5-4f92-93a7-19ad15161069",
   "metadata": {},
   "outputs": [
    {
     "name": "stdout",
     "output_type": "stream",
     "text": [
      "Enter the bugs collected on day 1\n"
     ]
    },
    {
     "name": "stdin",
     "output_type": "stream",
     "text": [
      " 1\n"
     ]
    },
    {
     "name": "stdout",
     "output_type": "stream",
     "text": [
      "Enter the bugs collected on day 2\n"
     ]
    },
    {
     "name": "stdin",
     "output_type": "stream",
     "text": [
      " 1\n"
     ]
    },
    {
     "name": "stdout",
     "output_type": "stream",
     "text": [
      "Enter the bugs collected on day 3\n"
     ]
    },
    {
     "name": "stdin",
     "output_type": "stream",
     "text": [
      " 1\n"
     ]
    },
    {
     "name": "stdout",
     "output_type": "stream",
     "text": [
      "Enter the bugs collected on day 4\n"
     ]
    },
    {
     "name": "stdin",
     "output_type": "stream",
     "text": [
      " 1\n"
     ]
    },
    {
     "name": "stdout",
     "output_type": "stream",
     "text": [
      "Enter the bugs collected on day 5\n"
     ]
    },
    {
     "name": "stdin",
     "output_type": "stream",
     "text": [
      " 1\n"
     ]
    },
    {
     "name": "stdout",
     "output_type": "stream",
     "text": [
      "Enter the bugs collected on day 6\n"
     ]
    },
    {
     "name": "stdin",
     "output_type": "stream",
     "text": [
      " 1\n"
     ]
    },
    {
     "name": "stdout",
     "output_type": "stream",
     "text": [
      "Enter the bugs collected on day 7\n"
     ]
    },
    {
     "name": "stdin",
     "output_type": "stream",
     "text": [
      " 1\n"
     ]
    }
   ],
   "source": [
    "\n",
    "total=0\n",
    "for day in range(1,8):\n",
    "    print('Enter the bugs collected on day', day)\n",
    "    bugs= int(input())\n",
    "    total += bugs\n"
   ]
  },
  {
   "cell_type": "code",
   "execution_count": 15,
   "id": "0d064be4-d868-4cd8-8e21-619cb5ab6110",
   "metadata": {},
   "outputs": [
    {
     "name": "stdout",
     "output_type": "stream",
     "text": [
      "You collected a total of 7 bugs.\n"
     ]
    }
   ],
   "source": [
    "print('You collected a total of', total, 'bugs.')"
   ]
  },
  {
   "cell_type": "markdown",
   "id": "af0ee4de-2e06-459c-9070-117883b7de67",
   "metadata": {},
   "source": [
    "ååååååååååååååååååååååååååååååååååååååååååååååååååexerciese, once I created my range function as it was in the previous exercise, all I had to do was define my inputs and variables and added the total += bugs line."
   ]
  },
  {
   "cell_type": "markdown",
   "id": "a41e8b14-b3d4-4655-a4e2-493e12c7ff04",
   "metadata": {},
   "source": [
    "# Programming exercies 4"
   ]
  },
  {
   "cell_type": "code",
   "execution_count": 23,
   "id": "e2076531-7c89-4bad-8735-684c7c59fa9d",
   "metadata": {},
   "outputs": [
    {
     "name": "stdout",
     "output_type": "stream",
     "text": [
      "Enter the speed in mph:\n"
     ]
    },
    {
     "name": "stdin",
     "output_type": "stream",
     "text": [
      " 100\n"
     ]
    },
    {
     "name": "stdout",
     "output_type": "stream",
     "text": [
      "Enter the total time in hours:\n"
     ]
    },
    {
     "name": "stdin",
     "output_type": "stream",
     "text": [
      " 6\n"
     ]
    },
    {
     "name": "stdout",
     "output_type": "stream",
     "text": [
      "The distance travelled in hour 1 is 100 miles.\n",
      "The distance travelled in hour 2 is 200 miles.\n",
      "The distance travelled in hour 3 is 300 miles.\n",
      "The distance travelled in hour 4 is 400 miles.\n",
      "The distance travelled in hour 5 is 500 miles.\n",
      "The distance travelled in hour 6 is 600 miles.\n"
     ]
    }
   ],
   "source": [
    "print('Enter the speed in mph:')\n",
    "speed = int(input())\n",
    "print('Enter the total time in hours:')\n",
    "time = int(input())\n",
    "\n",
    "for hours in range(1,time+1):\n",
    "    distance = speed * hours\n",
    "    print('The distance travelled in hour', hours, 'is', distance,'miles.')\n",
    "  \n",
    "\n"
   ]
  },
  {
   "cell_type": "markdown",
   "id": "7792d0d1-e4b3-40d5-b4c1-af384a0236c4",
   "metadata": {},
   "source": [
    "# In summary I copy and pasted half of the prevoius code and just renamed and reworded it. Then I used the variable to define the end of the range. The code worked but it wouldn't show the the next or final line. Then I added time + 1 in my range fucntion, then it completed the code.\n"
   ]
  },
  {
   "cell_type": "code",
   "execution_count": null,
   "id": "04c791c4-ab6f-42bf-96cc-24d940934455",
   "metadata": {},
   "outputs": [],
   "source": [
    "# Programming exercise 2"
   ]
  },
  {
   "cell_type": "code",
   "execution_count": 30,
   "id": "f9cf0113-36ae-4f14-9647-8b1e47510270",
   "metadata": {},
   "outputs": [
    {
     "name": "stdout",
     "output_type": "stream",
     "text": [
      "The calories burned in time 10 is 42.0 miles.\n",
      "The calories burned in time 15 is 63.0 miles.\n",
      "The calories burned in time 20 is 84.0 miles.\n",
      "The calories burned in time 25 is 105.0 miles.\n",
      "The calories burned in time 30 is 126.0 miles.\n"
     ]
    }
   ],
   "source": [
    "for time in range(10,35,5):\n",
    "    burned = 4.2 * time\n",
    "    print('The calories burned in minutes:',time, 'is', burned,'calories.')\n",
    "\n",
    "    "
   ]
  },
  {
   "cell_type": "markdown",
   "id": "054a44e4-b3d1-4ba1-9a4b-c9396de1a210",
   "metadata": {},
   "source": [
    "# In summary, I made my range function so it counts between 10 and 35 and that it incrases by 5 each time. Then I added my multiplication code and labeled it burned. Then finally the print function that displays the sentence."
   ]
  },
  {
   "cell_type": "code",
   "execution_count": null,
   "id": "596d3d5f-8562-4239-8f67-0f9902aff5fa",
   "metadata": {},
   "outputs": [],
   "source": []
  }
 ],
 "metadata": {
  "kernelspec": {
   "display_name": "Python 3 (ipykernel)",
   "language": "python",
   "name": "python3"
  },
  "language_info": {
   "codemirror_mode": {
    "name": "ipython",
    "version": 3
   },
   "file_extension": ".py",
   "mimetype": "text/x-python",
   "name": "python",
   "nbconvert_exporter": "python",
   "pygments_lexer": "ipython3",
   "version": "3.11.7"
  }
 },
 "nbformat": 4,
 "nbformat_minor": 5
}
