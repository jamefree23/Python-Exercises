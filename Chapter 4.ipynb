{
 "cells": [
  {
   "cell_type": "code",
   "execution_count": 1,
   "id": "0109b91d-5201-4a78-b31f-570da5819c01",
   "metadata": {},
   "outputs": [],
   "source": [
    "# Algorithim Workbench 1"
   ]
  },
  {
   "cell_type": "code",
   "execution_count": null,
   "id": "c8b99061-08e5-4126-907b-0b56247e33ca",
   "metadata": {},
   "outputs": [],
   "source": [
    "#While loop for a numbers product"
   ]
  },
  {
   "cell_type": "markdown",
   "id": "587d8b1e-1991-48ef-b6eb-0c7d3b82d426",
   "metadata": {},
   "source": [
    "\n",
    "\n",
    "product = 0\n",
    "\n",
    "while product < 100:    \n",
    "    number = int(input(\"Enter your number\"))\n",
    "    product = number * 10\n",
    "    print(f'Your product is {product}')\n",
    "    \n",
    "print(\"Your product has exceeded 100; exit loop\")\n",
    "\n",
    "    "
   ]
  },
  {
   "cell_type": "markdown",
   "id": "d20625a5-5ccf-400b-b1a0-80c21b0f3848",
   "metadata": {},
   "source": [
    "#Summary, I first put the product calculation outside of the while loop which had to be changed. Then it kept looping the number I entered into the text box instead of finding the product of the number and looping the question. Also took me a while to realize that I had to use the int(input. The final problem was it would print my exceeding number statement even if the number didn't exceed the limit. It would print the last value before the loop exited, so you couldn't say that the value was less that 100 in text. "
   ]
  },
  {
   "cell_type": "markdown",
   "id": "c7994478-50e5-414f-a7d2-7002e4aab0e8",
   "metadata": {},
   "source": [
    "# Alogrithim Workbench 2"
   ]
  },
  {
   "cell_type": "code",
   "execution_count": 7,
   "id": "5989f79b-0d75-4397-aab8-0a219dcb8bc0",
   "metadata": {},
   "outputs": [
    {
     "ename": "IndentationError",
     "evalue": "unexpected indent (280746223.py, line 2)",
     "output_type": "error",
     "traceback": [
      "\u001b[1;36m  Cell \u001b[1;32mIn[7], line 2\u001b[1;36m\u001b[0m\n\u001b[1;33m    while count < 0:\u001b[0m\n\u001b[1;37m    ^\u001b[0m\n\u001b[1;31mIndentationError\u001b[0m\u001b[1;31m:\u001b[0m unexpected indent\n"
     ]
    }
   ],
   "source": [
    "for number in range(10,1000):\n",
    "    print(numb"
   ]
  },
  {
   "cell_type": "code",
   "execution_count": null,
   "id": "642c1b7d-cab6-40cd-86eb-8e6e9aed45d0",
   "metadata": {},
   "outputs": [],
   "source": []
  }
 ],
 "metadata": {
  "kernelspec": {
   "display_name": "Python 3 (ipykernel)",
   "language": "python",
   "name": "python3"
  },
  "language_info": {
   "codemirror_mode": {
    "name": "ipython",
    "version": 3
   },
   "file_extension": ".py",
   "mimetype": "text/x-python",
   "name": "python",
   "nbconvert_exporter": "python",
   "pygments_lexer": "ipython3",
   "version": "3.11.7"
  }
 },
 "nbformat": 4,
 "nbformat_minor": 5
}
