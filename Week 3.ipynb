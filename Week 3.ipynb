{
 "cells": [
  {
   "cell_type": "markdown",
   "id": "1f42cbb4-c5eb-4346-9505-441f331128bd",
   "metadata": {},
   "source": [
    "##Question 15"
   ]
  },
  {
   "cell_type": "code",
   "execution_count": 1,
   "id": "64fc8713-deee-4da5-b77c-0cd182ef31f8",
   "metadata": {},
   "outputs": [],
   "source": [
    "# if criterion 1 is met, it is a leap year and return 29\n",
    "# determine whether the year is divisible by 100\n",
    "# if criterion 2 is met, it is a leap year"
   ]
  },
  {
   "cell_type": "code",
   "execution_count": 35,
   "id": "3f1365ab-8cb2-4c94-aa11-db50cacaed8d",
   "metadata": {},
   "outputs": [
    {
     "name": "stdin",
     "output_type": "stream",
     "text": [
      "Enter a year: 2009\n"
     ]
    },
    {
     "name": "stdout",
     "output_type": "stream",
     "text": [
      "In 2009 Frebruary has 28 days.\n"
     ]
    }
   ],
   "source": [
    "#select year\n",
    "x = input(\"Enter a year:\")\n",
    "\n",
    "x = int(x)\n",
    "\n",
    "if (x % 100 == 0) and (x % 400 == 0):\n",
    "    print (\"In\",x,\"Frebruary has 29 days.\")\n",
    "else:\n",
    "    if (x % 4 == 0):\n",
    "        print (\"In\",x,\"Frebruary has 29 days.\")\n",
    "    else:\n",
    "        print (\"In\",x,\"Frebruary has 28 days.\")\n",
    "    "
   ]
  },
  {
   "cell_type": "markdown",
   "id": "e69acd89-2f11-484b-bdcd-9cd1bb9cf1ea",
   "metadata": {},
   "source": [
    "# If the year is divisible by 100, then it is a leap year\n",
    "# If not, then it isn't a leap year"
   ]
  },
  {
   "cell_type": "code",
   "execution_count": null,
   "id": "23648f96-4e86-4f8b-b0e0-3d8185a905ef",
   "metadata": {},
   "outputs": [],
   "source": [
    "## Question 17"
   ]
  },
  {
   "cell_type": "markdown",
   "id": "79b268ee-fccf-47fe-a18a-6f9e3637397c",
   "metadata": {},
   "source": [
    "#Chapter 3 set responses\n",
    "First time using the .lower and the. strip functions. Only major errors that occured during this set was spelling errors. Also I could not use a dash inbetween the words gluten and free. Had to change to an underscore. Then used an assortment of if statements to display the resturant names depending on each response to all the questions. Had no problems with if statemets besides spelling."
   ]
  },
  {
   "cell_type": "code",
   "execution_count": 67,
   "id": "3c719876-e191-4d8a-82c3-3dd3f011d3e0",
   "metadata": {},
   "outputs": [
    {
     "name": "stdout",
     "output_type": "stream",
     "text": [
      "Is anyone in your party a vegetarian?\n"
     ]
    },
    {
     "name": "stdin",
     "output_type": "stream",
     "text": [
      " yes\n"
     ]
    }
   ],
   "source": [
    "print(\"Is anyone in your party a vegetarian?\")\n",
    "vegetarian = input().lower().strip()"
   ]
  },
  {
   "cell_type": "code",
   "execution_count": 68,
   "id": "a5e72255-30a6-47f5-a90f-acc62f0106fd",
   "metadata": {},
   "outputs": [
    {
     "name": "stdout",
     "output_type": "stream",
     "text": [
      "Is anyone in your party a vegan?\n"
     ]
    },
    {
     "name": "stdin",
     "output_type": "stream",
     "text": [
      " no\n"
     ]
    }
   ],
   "source": [
    "print(\"Is anyone in your party a vegan?\")\n",
    "vegan = input().lower().strip()"
   ]
  },
  {
   "cell_type": "code",
   "execution_count": 69,
   "id": "ee3f2bd2-115e-43ad-9f56-270cac119623",
   "metadata": {},
   "outputs": [
    {
     "name": "stdout",
     "output_type": "stream",
     "text": [
      "Is anyone in your party a gluten-free?\n"
     ]
    },
    {
     "name": "stdin",
     "output_type": "stream",
     "text": [
      " no\n"
     ]
    }
   ],
   "source": [
    "print(\"Is anyone in your party a gluten-free?\")\n",
    "gluten_free = input().lower().strip()"
   ]
  },
  {
   "cell_type": "code",
   "execution_count": 70,
   "id": "460aaed5-94a8-46db-90e2-8b7e16ebd869",
   "metadata": {},
   "outputs": [
    {
     "name": "stdout",
     "output_type": "stream",
     "text": [
      "Here are your resturant choices:\n"
     ]
    }
   ],
   "source": [
    "print(\"Here are your resturant choices:\")"
   ]
  },
  {
   "cell_type": "code",
   "execution_count": 71,
   "id": "ea2f09d2-3a99-4809-aa27-19a79e2d3715",
   "metadata": {},
   "outputs": [
    {
     "name": "stdout",
     "output_type": "stream",
     "text": [
      "Main Street Pizza Company\n",
      "Mama's Fine Italian\n",
      "Corner Cafe\n",
      "Chef's Kitchen\n"
     ]
    }
   ],
   "source": [
    "if vegetarian != \"yes\" and vegan != \"yes\" and gluten_free != \"yes\":\n",
    "    print(\"Joe's Gourmet Burgers\") \n",
    "if vegan == \"no\": \n",
    "    print(\"Main Street Pizza Company\")\n",
    "if vegan == \"no\" and gluten_free == \"no\":\n",
    "    print(\"Mama's Fine Italian\")\n",
    "print(\"Corner Cafe\")\n",
    "print(\"Chef's Kitchen\")"
   ]
  },
  {
   "cell_type": "markdown",
   "id": "db2fb82e-6054-4cc9-8c42-360dd506c30a",
   "metadata": {},
   "source": [
    "#Question 1"
   ]
  },
  {
   "cell_type": "code",
   "execution_count": 207,
   "id": "bef669c7-fddd-4c8b-bef0-d3ee2bef673f",
   "metadata": {},
   "outputs": [
    {
     "name": "stdout",
     "output_type": "stream",
     "text": [
      "Choose a number between 1 and 7\n"
     ]
    }
   ],
   "source": [
    "print(\"Choose a number between 1 and 7\")"
   ]
  },
  {
   "cell_type": "code",
   "execution_count": 208,
   "id": "ec21bfc7-afa3-4de1-b145-5c5a2824c2e9",
   "metadata": {},
   "outputs": [
    {
     "name": "stdin",
     "output_type": "stream",
     "text": [
      "Enter a number 9\n"
     ]
    }
   ],
   "source": [
    "x=input(\"Enter a number\")"
   ]
  },
  {
   "cell_type": "code",
   "execution_count": 209,
   "id": "a5296a01-4950-47e2-9d13-2f65c28e26d9",
   "metadata": {},
   "outputs": [],
   "source": [
    "x=int(x)"
   ]
  },
  {
   "cell_type": "code",
   "execution_count": 210,
   "id": "76a16472-34ed-4251-835d-dd74af912b34",
   "metadata": {},
   "outputs": [],
   "source": [
    "if x == 1:\n",
    "    print(\"Monday\")"
   ]
  },
  {
   "cell_type": "code",
   "execution_count": 211,
   "id": "be5c52ad-533e-4470-87bd-336d62c41e7c",
   "metadata": {},
   "outputs": [],
   "source": [
    "if x == 2:\n",
    "    print(\"Tuesday\")"
   ]
  },
  {
   "cell_type": "code",
   "execution_count": 212,
   "id": "43565b84-a9ed-41c4-859b-fe47c08507fc",
   "metadata": {},
   "outputs": [],
   "source": [
    "if x == 3:\n",
    "    print(\"Wensday\")"
   ]
  },
  {
   "cell_type": "code",
   "execution_count": 213,
   "id": "769f5624-635b-4ed6-b504-5361f7d22ff0",
   "metadata": {},
   "outputs": [],
   "source": [
    "if x == 4:\n",
    "    print(\"Thursday\")"
   ]
  },
  {
   "cell_type": "code",
   "execution_count": 214,
   "id": "d2fc429f-a57e-465e-896e-1b6d1ed13997",
   "metadata": {},
   "outputs": [],
   "source": [
    "if x == 5:\n",
    "    print(\"Friday\")"
   ]
  },
  {
   "cell_type": "code",
   "execution_count": 215,
   "id": "911dea41-d6b4-4c1c-9a1a-78a572f441fe",
   "metadata": {},
   "outputs": [],
   "source": [
    "if x == 6:\n",
    "    print(\"Saturday\")"
   ]
  },
  {
   "cell_type": "code",
   "execution_count": 216,
   "id": "abc8dd84-488c-4591-819d-e387d1f05fa8",
   "metadata": {},
   "outputs": [
    {
     "name": "stdout",
     "output_type": "stream",
     "text": [
      "error\n"
     ]
    }
   ],
   "source": [
    "if x == 7:\n",
    "    print(\"Sunday\")\n",
    "else:\n",
    "    print(\"error\")"
   ]
  },
  {
   "cell_type": "markdown",
   "id": "99996009-5f49-4a98-8bae-f8486a32fdc9",
   "metadata": {},
   "source": [
    "#In summary this project went pretty smooth. Getting all the days to print, I pretty much had no problems. The issues came when I tried to get the error message to pop up, I first tried to list not equal to all the seperate numbers and did not work.(Which is shown below) Then I went back to the if else statement and had a couple erros with indentation and I forgot a colon. Other that that this project went well.   "
   ]
  },
  {
   "cell_type": "markdown",
   "id": "a1f5cfd7-4af6-4286-8419-f8277addeb02",
   "metadata": {},
   "source": [
    "#Showing what I first tried instead of the else statement"
   ]
  },
  {
   "cell_type": "code",
   "execution_count": 217,
   "id": "0761bc99-815a-474a-91c8-4deba3a2500f",
   "metadata": {},
   "outputs": [
    {
     "ename": "SyntaxError",
     "evalue": "invalid syntax (634453842.py, line 1)",
     "output_type": "error",
     "traceback": [
      "\u001b[1;36m  Cell \u001b[1;32mIn[217], line 1\u001b[1;36m\u001b[0m\n\u001b[1;33m    if x != 1 and x != 2 x != 3 and x != 4 and x != 5 and x != 6 and x != 7:\u001b[0m\n\u001b[1;37m                         ^\u001b[0m\n\u001b[1;31mSyntaxError\u001b[0m\u001b[1;31m:\u001b[0m invalid syntax\n"
     ]
    }
   ],
   "source": [
    "if x != 1 and x != 2 x != 3 and x != 4 and x != 5 and x != 6 and x != 7:"
   ]
  },
  {
   "cell_type": "markdown",
   "id": "4547ed0f-a9df-4909-8fb2-bafcc1d0f568",
   "metadata": {},
   "source": [
    "#Question 5"
   ]
  },
  {
   "cell_type": "code",
   "execution_count": 250,
   "id": "06a77e9c-748c-4a03-9a73-e84689d6cbaf",
   "metadata": {},
   "outputs": [
    {
     "name": "stdin",
     "output_type": "stream",
     "text": [
      "Enter the objects mass 290\n"
     ]
    }
   ],
   "source": [
    "x=input(\"Enter the objects mass\")"
   ]
  },
  {
   "cell_type": "code",
   "execution_count": 251,
   "id": "ab154270-e5cc-4dde-b7ce-f56a861f23fa",
   "metadata": {},
   "outputs": [],
   "source": [
    "x=int(x)"
   ]
  },
  {
   "cell_type": "code",
   "execution_count": 252,
   "id": "9b7bde47-ffb7-4e88-a2b7-6ac9e1e05607",
   "metadata": {},
   "outputs": [
    {
     "name": "stdout",
     "output_type": "stream",
     "text": [
      "Weight = 2842.0\n"
     ]
    }
   ],
   "source": [
    "if x > 500:\n",
    "    print(\"Object is too heavy\")\n",
    "else:\n",
    "    if x < 100:\n",
    "        print(\"Object is too light\")\n",
    "    else: \n",
    "        x=x*9.8\n",
    "        print(\"Weight =\",x)"
   ]
  },
  {
   "cell_type": "markdown",
   "id": "7da01159-3b7d-44f9-b62e-918a6c84bb2a",
   "metadata": {},
   "source": [
    "# In summary I had no problems with the greater than and less than statements. For the formula I had problems with the order of =\",x but I evenutally got it I also had a problem with the variable and defining the weight and mass. I learned that the else and if statements have to be in the same cell."
   ]
  },
  {
   "cell_type": "markdown",
   "id": "31968d13-e15a-4079-bdbb-59e675c4fb63",
   "metadata": {},
   "source": [
    "# Algorithim workbench #4"
   ]
  },
  {
   "cell_type": "code",
   "execution_count": null,
   "id": "2d6842fb-af4a-49b7-a70b-df66be1bdb9f",
   "metadata": {},
   "outputs": [],
   "source": [
    "x=input(\"score\")"
   ]
  },
  {
   "cell_type": "code",
   "execution_count": null,
   "id": "11a8f452-ff72-48fd-ab1d-9050e3388834",
   "metadata": {},
   "outputs": [],
   "source": [
    "print"
   ]
  },
  {
   "cell_type": "code",
   "execution_count": null,
   "id": "4f915714-481f-4187-af91-260100269876",
   "metadata": {},
   "outputs": [],
   "source": [
    "if score >= A_score:\n",
    "    print(\"Your grade is A\")\n",
    "else:\n",
    "    if score >= B_score:\n",
    "        print(\"Your grade is B\")\n",
    "    else: \n",
    "        if score >= C_score:\n",
    "            print(\"Your grade is C\")\n",
    "        else: \n",
    "            if score >= D_score:\n",
    "                 print(\"Your grade is D\")\n",
    "           else: \n",
    "                if score >= F_score:\n",
    "                    print(\"Your grade is F\")\n",
    "   \n"
   ]
  }
 ],
 "metadata": {
  "kernelspec": {
   "display_name": "Python 3 (ipykernel)",
   "language": "python",
   "name": "python3"
  },
  "language_info": {
   "codemirror_mode": {
    "name": "ipython",
    "version": 3
   },
   "file_extension": ".py",
   "mimetype": "text/x-python",
   "name": "python",
   "nbconvert_exporter": "python",
   "pygments_lexer": "ipython3",
   "version": "3.11.7"
  }
 },
 "nbformat": 4,
 "nbformat_minor": 5
}
