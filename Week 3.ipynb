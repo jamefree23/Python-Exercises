{
 "cells": [
  {
   "cell_type": "markdown",
   "id": "1f42cbb4-c5eb-4346-9505-441f331128bd",
   "metadata": {},
   "source": [
    "##Question 15"
   ]
  },
  {
   "cell_type": "code",
   "execution_count": 1,
   "id": "64fc8713-deee-4da5-b77c-0cd182ef31f8",
   "metadata": {},
   "outputs": [],
   "source": [
    "# if criterion 1 is met, it is a leap year and return 29\n",
    "# determine whether the year is divisible by 100\n",
    "# if criterion 2 is met, it is a leap year"
   ]
  },
  {
   "cell_type": "code",
   "execution_count": 35,
   "id": "3f1365ab-8cb2-4c94-aa11-db50cacaed8d",
   "metadata": {},
   "outputs": [
    {
     "name": "stdin",
     "output_type": "stream",
     "text": [
      "Enter a year: 2009\n"
     ]
    },
    {
     "name": "stdout",
     "output_type": "stream",
     "text": [
      "In 2009 Frebruary has 28 days.\n"
     ]
    }
   ],
   "source": [
    "#select year\n",
    "x = input(\"Enter a year:\")\n",
    "\n",
    "x = int(x)\n",
    "\n",
    "if (x % 100 == 0) and (x % 400 == 0):\n",
    "    print (\"In\",x,\"Frebruary has 29 days.\")\n",
    "else:\n",
    "    if (x % 4 == 0):\n",
    "        print (\"In\",x,\"Frebruary has 29 days.\")\n",
    "    else:\n",
    "        print (\"In\",x,\"Frebruary has 28 days.\")\n",
    "    "
   ]
  },
  {
   "cell_type": "markdown",
   "id": "e69acd89-2f11-484b-bdcd-9cd1bb9cf1ea",
   "metadata": {},
   "source": [
    "# If the year is divisible by 100, then it is a leap year\n",
    "# If not, then it isn't a leap year"
   ]
  },
  {
   "cell_type": "code",
   "execution_count": null,
   "id": "0905f1d3-7121-419e-ba72-cb57c6ed479c",
   "metadata": {},
   "outputs": [],
   "source": [
    "if "
   ]
  }
 ],
 "metadata": {
  "kernelspec": {
   "display_name": "Python 3 (ipykernel)",
   "language": "python",
   "name": "python3"
  },
  "language_info": {
   "codemirror_mode": {
    "name": "ipython",
    "version": 3
   },
   "file_extension": ".py",
   "mimetype": "text/x-python",
   "name": "python",
   "nbconvert_exporter": "python",
   "pygments_lexer": "ipython3",
   "version": "3.11.7"
  }
 },
 "nbformat": 4,
 "nbformat_minor": 5
}
