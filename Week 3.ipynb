{
 "cells": [
  {
   "cell_type": "markdown",
   "id": "1f42cbb4-c5eb-4346-9505-441f331128bd",
   "metadata": {},
   "source": [
    "##Question 15"
   ]
  },
  {
   "cell_type": "code",
   "execution_count": 1,
   "id": "64fc8713-deee-4da5-b77c-0cd182ef31f8",
   "metadata": {},
   "outputs": [],
   "source": [
    "# if criterion 1 is met, it is a leap year and return 29\n",
    "# determine whether the year is divisible by 100\n",
    "# if criterion 2 is met, it is a leap year"
   ]
  },
  {
   "cell_type": "code",
   "execution_count": 35,
   "id": "3f1365ab-8cb2-4c94-aa11-db50cacaed8d",
   "metadata": {},
   "outputs": [
    {
     "name": "stdin",
     "output_type": "stream",
     "text": [
      "Enter a year: 2009\n"
     ]
    },
    {
     "name": "stdout",
     "output_type": "stream",
     "text": [
      "In 2009 Frebruary has 28 days.\n"
     ]
    }
   ],
   "source": [
    "#select year\n",
    "x = input(\"Enter a year:\")\n",
    "\n",
    "x = int(x)\n",
    "\n",
    "if (x % 100 == 0) and (x % 400 == 0):\n",
    "    print (\"In\",x,\"Frebruary has 29 days.\")\n",
    "else:\n",
    "    if (x % 4 == 0):\n",
    "        print (\"In\",x,\"Frebruary has 29 days.\")\n",
    "    else:\n",
    "        print (\"In\",x,\"Frebruary has 28 days.\")\n",
    "    "
   ]
  },
  {
   "cell_type": "markdown",
   "id": "e69acd89-2f11-484b-bdcd-9cd1bb9cf1ea",
   "metadata": {},
   "source": [
    "# If the year is divisible by 100, then it is a leap year\n",
    "# If not, then it isn't a leap year"
   ]
  },
  {
   "cell_type": "code",
   "execution_count": null,
   "id": "23648f96-4e86-4f8b-b0e0-3d8185a905ef",
   "metadata": {},
   "outputs": [],
   "source": [
    "## Question 17"
   ]
  },
  {
   "cell_type": "code",
   "execution_count": 62,
   "id": "3c719876-e191-4d8a-82c3-3dd3f011d3e0",
   "metadata": {},
   "outputs": [
    {
     "name": "stdout",
     "output_type": "stream",
     "text": [
      "Is anyone in your party a vegetarian?\n"
     ]
    },
    {
     "name": "stdin",
     "output_type": "stream",
     "text": [
      " yes\n"
     ]
    }
   ],
   "source": [
    "print(\"Is anyone in your party a vegetarian?\")\n",
    "vegetarian = input().lower().strip()"
   ]
  },
  {
   "cell_type": "code",
   "execution_count": 63,
   "id": "a5e72255-30a6-47f5-a90f-acc62f0106fd",
   "metadata": {},
   "outputs": [
    {
     "name": "stdout",
     "output_type": "stream",
     "text": [
      "Is anyone in your party a vegan?\n"
     ]
    },
    {
     "name": "stdin",
     "output_type": "stream",
     "text": [
      " no\n"
     ]
    }
   ],
   "source": [
    "print(\"Is anyone in your party a vegan?\")\n",
    "vegan = input().lower().strip()"
   ]
  },
  {
   "cell_type": "code",
   "execution_count": 64,
   "id": "ee3f2bd2-115e-43ad-9f56-270cac119623",
   "metadata": {},
   "outputs": [
    {
     "name": "stdout",
     "output_type": "stream",
     "text": [
      "Is anyone in your party a gluten-free?\n"
     ]
    },
    {
     "name": "stdin",
     "output_type": "stream",
     "text": [
      " yes\n"
     ]
    }
   ],
   "source": [
    "print(\"Is anyone in your party a gluten-free?\")\n",
    "gluten_free = input().lower().strip()"
   ]
  },
  {
   "cell_type": "code",
   "execution_count": 65,
   "id": "460aaed5-94a8-46db-90e2-8b7e16ebd869",
   "metadata": {},
   "outputs": [
    {
     "name": "stdout",
     "output_type": "stream",
     "text": [
      "Here are your resturant choices:\n"
     ]
    }
   ],
   "source": [
    "print(\"Here are your resturant choices:\")"
   ]
  },
  {
   "cell_type": "code",
   "execution_count": 66,
   "id": "ea2f09d2-3a99-4809-aa27-19a79e2d3715",
   "metadata": {},
   "outputs": [
    {
     "name": "stdout",
     "output_type": "stream",
     "text": [
      "Main Street Pizza Company\n",
      "Corner Cafe\n",
      "Chef's Kitchen\n"
     ]
    }
   ],
   "source": [
    "if vegetarian != \"yes\" and vegan != \"yes\" and gluten_free != \"yes\":\n",
    "    print(\"Joe's Gourmet Burgers\") \n",
    "if vegan == \"no\": \n",
    "    print(\"Main Street Pizza Company\")\n",
    "print(\"Corner Cafe\")\n",
    "print(\"Chef's Kitchen\")"
   ]
  },
  {
   "cell_type": "code",
   "execution_count": null,
   "id": "53c02d33-f225-4cfd-b07c-38a49a79cb85",
   "metadata": {},
   "outputs": [],
   "source": []
  }
 ],
 "metadata": {
  "kernelspec": {
   "display_name": "Python 3 (ipykernel)",
   "language": "python",
   "name": "python3"
  },
  "language_info": {
   "codemirror_mode": {
    "name": "ipython",
    "version": 3
   },
   "file_extension": ".py",
   "mimetype": "text/x-python",
   "name": "python",
   "nbconvert_exporter": "python",
   "pygments_lexer": "ipython3",
   "version": "3.11.7"
  }
 },
 "nbformat": 4,
 "nbformat_minor": 5
}
