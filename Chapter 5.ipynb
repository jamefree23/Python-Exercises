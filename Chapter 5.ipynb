{
 "cells": [
  {
   "cell_type": "markdown",
   "id": "77ae0743-f106-4c9c-8072-1683910c2d67",
   "metadata": {},
   "source": [
    "#Chapter 5"
   ]
  },
  {
   "cell_type": "markdown",
   "id": "766606ba-d87a-4e7d-9f4c-b1cb36bbb14c",
   "metadata": {},
   "source": [
    "##Algorithm Workbench 1"
   ]
  },
  {
   "cell_type": "code",
   "execution_count": 16,
   "id": "e0e83548-d559-4846-a635-12c02d4c4073",
   "metadata": {},
   "outputs": [
    {
     "name": "stdin",
     "output_type": "stream",
     "text": [
      "Please input an number 5\n"
     ]
    },
    {
     "name": "stdout",
     "output_type": "stream",
     "text": [
      "5\n",
      "50\n"
     ]
    }
   ],
   "source": [
    "\n",
    "\n",
    "def times_ten ():\n",
    "    number = int(input(\"Please input an number\"))\n",
    "    print (number)\n",
    "    result = number * 10\n",
    "    print (result)\n",
    "\n",
    "times_ten ()"
   ]
  },
  {
   "cell_type": "code",
   "execution_count": null,
   "id": "5b421ab1-bf0d-43f9-86d6-fce8c43f21a8",
   "metadata": {},
   "outputs": [],
   "source": []
  }
 ],
 "metadata": {
  "kernelspec": {
   "display_name": "Python 3 (ipykernel)",
   "language": "python",
   "name": "python3"
  },
  "language_info": {
   "codemirror_mode": {
    "name": "ipython",
    "version": 3
   },
   "file_extension": ".py",
   "mimetype": "text/x-python",
   "name": "python",
   "nbconvert_exporter": "python",
   "pygments_lexer": "ipython3",
   "version": "3.11.7"
  }
 },
 "nbformat": 4,
 "nbformat_minor": 5
}
