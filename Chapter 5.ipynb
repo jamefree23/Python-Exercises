{
 "cells": [
  {
   "cell_type": "markdown",
   "id": "77ae0743-f106-4c9c-8072-1683910c2d67",
   "metadata": {},
   "source": [
    "#Chapter 5"
   ]
  },
  {
   "cell_type": "markdown",
   "id": "766606ba-d87a-4e7d-9f4c-b1cb36bbb14c",
   "metadata": {},
   "source": [
    "##Algorithm Workbench 1"
   ]
  },
  {
   "cell_type": "code",
   "execution_count": 16,
   "id": "e0e83548-d559-4846-a635-12c02d4c4073",
   "metadata": {},
   "outputs": [
    {
     "name": "stdin",
     "output_type": "stream",
     "text": [
      "Please input an number 5\n"
     ]
    },
    {
     "name": "stdout",
     "output_type": "stream",
     "text": [
      "5\n",
      "50\n"
     ]
    }
   ],
   "source": [
    "\n",
    "\n",
    "def times_ten ():\n",
    "    number = int(input(\"Please input an number\"))\n",
    "    print (number)\n",
    "    result = number * 10\n",
    "    print (result)\n",
    "\n",
    "times_ten ()"
   ]
  },
  {
   "cell_type": "markdown",
   "id": "2ce52700-6f59-4b61-a370-d08d60f9715b",
   "metadata": {},
   "source": [
    "##Algorithim workbench 2"
   ]
  },
  {
   "cell_type": "code",
   "execution_count": 27,
   "id": "8e76d476-4fd1-48e1-a408-60b16a35664f",
   "metadata": {},
   "outputs": [],
   "source": [
    "def main():\n",
    "    value = 12\n",
    "    show_value(value)   "
   ]
  },
  {
   "cell_type": "code",
   "execution_count": 28,
   "id": "564a43ec-48a1-4c0c-980b-04f2d68917b4",
   "metadata": {},
   "outputs": [
    {
     "name": "stdout",
     "output_type": "stream",
     "text": [
      "12\n"
     ]
    }
   ],
   "source": [
    "def show_value(quantity):\n",
    "    print(quantity)\n",
    "main()"
   ]
  },
  {
   "cell_type": "markdown",
   "id": "7498a175-d631-4922-913b-36d8a04b15e2",
   "metadata": {},
   "source": [
    "##Kilometer Converter problem"
   ]
  },
  {
   "cell_type": "code",
   "execution_count": 20,
   "id": "cfea7a15-c68c-4093-be0a-efeebfc1c551",
   "metadata": {},
   "outputs": [],
   "source": [
    "Conversion_factor = 0.6214"
   ]
  },
  {
   "cell_type": "code",
   "execution_count": 81,
   "id": "5ffe11c6-0527-4c14-9400-93d9d3f317a3",
   "metadata": {},
   "outputs": [
    {
     "name": "stdin",
     "output_type": "stream",
     "text": [
      "Enter a distance in kilometers: 7\n"
     ]
    },
    {
     "name": "stdout",
     "output_type": "stream",
     "text": [
      "7.0 Kilometers equals 4.3498 miles\n"
     ]
    }
   ],
   "source": [
    "def main():\n",
    "    kilometers = float(input('Enter a distance in kilometers:')) \n",
    "    show_miles(kilometers)\n",
    "def    show_miles(km):\n",
    "    miles = km * 0.6214\n",
    "    print(km,'Kilometers equals',miles,'miles')\n",
    "\n",
    "main()\n",
    "    "
   ]
  },
  {
   "cell_type": "markdown",
   "id": "836f02c6-584c-422c-b1f3-4731ad9ab67f",
   "metadata": {},
   "source": [
    "##Prime numbers"
   ]
  },
  {
   "cell_type": "code",
   "execution_count": 89,
   "id": "9670bd3c-5f59-4a88-b68c-65450fb77772",
   "metadata": {},
   "outputs": [
    {
     "name": "stdin",
     "output_type": "stream",
     "text": [
      "Enter any number to test whether it is a prime number or not: 5\n"
     ]
    },
    {
     "name": "stdout",
     "output_type": "stream",
     "text": [
      "The provided number is prime\n"
     ]
    }
   ],
   "source": [
    "num = int (input (\"Enter any number to test whether it is a prime number or not:\"))\n",
    "if (num % 2) == 0: print (\"The number is not prime\") \n",
    "else: print (\"The provided number is prime\") "
   ]
  },
  {
   "cell_type": "code",
   "execution_count": null,
   "id": "216d40e5-f9e0-48f5-94ef-0985a5c9e0fb",
   "metadata": {},
   "outputs": [],
   "source": []
  }
 ],
 "metadata": {
  "kernelspec": {
   "display_name": "Python 3 (ipykernel)",
   "language": "python",
   "name": "python3"
  },
  "language_info": {
   "codemirror_mode": {
    "name": "ipython",
    "version": 3
   },
   "file_extension": ".py",
   "mimetype": "text/x-python",
   "name": "python",
   "nbconvert_exporter": "python",
   "pygments_lexer": "ipython3",
   "version": "3.11.7"
  }
 },
 "nbformat": 4,
 "nbformat_minor": 5
}
