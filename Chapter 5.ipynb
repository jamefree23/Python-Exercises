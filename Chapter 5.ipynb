{
 "cells": [
  {
   "cell_type": "markdown",
   "id": "77ae0743-f106-4c9c-8072-1683910c2d67",
   "metadata": {},
   "source": [
    "#Chapter 5"
   ]
  },
  {
   "cell_type": "markdown",
   "id": "766606ba-d87a-4e7d-9f4c-b1cb36bbb14c",
   "metadata": {},
   "source": [
    "##Algorithm Workbench 1"
   ]
  },
  {
   "cell_type": "code",
   "execution_count": 16,
   "id": "e0e83548-d559-4846-a635-12c02d4c4073",
   "metadata": {},
   "outputs": [
    {
     "name": "stdin",
     "output_type": "stream",
     "text": [
      "Please input an number 5\n"
     ]
    },
    {
     "name": "stdout",
     "output_type": "stream",
     "text": [
      "5\n",
      "50\n"
     ]
    }
   ],
   "source": [
    "\n",
    "\n",
    "def times_ten ():\n",
    "    number = int(input(\"Please input an number\"))\n",
    "    print (number)\n",
    "    result = number * 10\n",
    "    print (result)\n",
    "\n",
    "times_ten ()"
   ]
  },
  {
   "cell_type": "markdown",
   "id": "2ce52700-6f59-4b61-a370-d08d60f9715b",
   "metadata": {},
   "source": [
    "##Algorithim workbench 2"
   ]
  },
  {
   "cell_type": "code",
   "execution_count": 27,
   "id": "8e76d476-4fd1-48e1-a408-60b16a35664f",
   "metadata": {},
   "outputs": [],
   "source": [
    "def main():\n",
    "    value = 12\n",
    "    show_value(value)   "
   ]
  },
  {
   "cell_type": "code",
   "execution_count": 28,
   "id": "564a43ec-48a1-4c0c-980b-04f2d68917b4",
   "metadata": {},
   "outputs": [
    {
     "name": "stdout",
     "output_type": "stream",
     "text": [
      "12\n"
     ]
    }
   ],
   "source": [
    "def show_value(quantity):\n",
    "    print(quantity)\n",
    "main()"
   ]
  },
  {
   "cell_type": "markdown",
   "id": "7498a175-d631-4922-913b-36d8a04b15e2",
   "metadata": {},
   "source": [
    "##Kilometer Converter problem"
   ]
  },
  {
   "cell_type": "code",
   "execution_count": 20,
   "id": "cfea7a15-c68c-4093-be0a-efeebfc1c551",
   "metadata": {},
   "outputs": [],
   "source": [
    "Conversion_factor = 0.6214"
   ]
  },
  {
   "cell_type": "code",
   "execution_count": 81,
   "id": "5ffe11c6-0527-4c14-9400-93d9d3f317a3",
   "metadata": {},
   "outputs": [
    {
     "name": "stdin",
     "output_type": "stream",
     "text": [
      "Enter a distance in kilometers: 7\n"
     ]
    },
    {
     "name": "stdout",
     "output_type": "stream",
     "text": [
      "7.0 Kilometers equals 4.3498 miles\n"
     ]
    }
   ],
   "source": [
    "def main():\n",
    "    kilometers = float(input('Enter a distance in kilometers:')) \n",
    "    show_miles(kilometers)\n",
    "def    show_miles(km):\n",
    "    miles = km * 0.6214\n",
    "    print(km,'Kilometers equals',miles,'miles')\n",
    "\n",
    "main()\n",
    "    "
   ]
  },
  {
   "cell_type": "markdown",
   "id": "836f02c6-584c-422c-b1f3-4731ad9ab67f",
   "metadata": {},
   "source": [
    "##Is prime"
   ]
  },
  {
   "cell_type": "code",
   "execution_count": 89,
   "id": "9670bd3c-5f59-4a88-b68c-65450fb77772",
   "metadata": {},
   "outputs": [
    {
     "name": "stdin",
     "output_type": "stream",
     "text": [
      "Enter any number to test whether it is a prime number or not: 5\n"
     ]
    },
    {
     "name": "stdout",
     "output_type": "stream",
     "text": [
      "The provided number is prime\n"
     ]
    }
   ],
   "source": [
    "num = int (input (\"Enter any number to test whether it is a prime number or not:\"))\n",
    "if (num % 2) == 0: print (\"The number is not prime\") \n",
    "else: print (\"The provided number is prime\") "
   ]
  },
  {
   "cell_type": "markdown",
   "id": "e3080618-3e77-49a8-8718-8b0e58c290fd",
   "metadata": {},
   "source": [
    "## Prime extension"
   ]
  },
  {
   "cell_type": "code",
   "execution_count": 155,
   "id": "5903c0c1-85ce-4f87-b61c-f295677d4077",
   "metadata": {},
   "outputs": [
    {
     "name": "stdout",
     "output_type": "stream",
     "text": [
      "1\n",
      "3\n",
      "5\n",
      "7\n",
      "9\n",
      "11\n",
      "13\n",
      "15\n",
      "17\n",
      "19\n",
      "21\n",
      "23\n",
      "25\n",
      "27\n",
      "29\n",
      "31\n",
      "33\n",
      "35\n",
      "37\n",
      "39\n",
      "41\n",
      "43\n",
      "45\n",
      "47\n",
      "49\n",
      "51\n",
      "53\n",
      "55\n",
      "57\n",
      "59\n",
      "61\n",
      "63\n",
      "65\n",
      "67\n",
      "69\n",
      "71\n",
      "73\n",
      "75\n",
      "77\n",
      "79\n",
      "81\n",
      "83\n",
      "85\n",
      "87\n",
      "89\n",
      "91\n",
      "93\n",
      "95\n",
      "97\n",
      "99\n"
     ]
    }
   ],
   "source": [
    "\n",
    "def main():\n",
    "    for number in range(1,101,1):\n",
    "        is_prime(number)\n",
    "        \n",
    "      \n",
    "def is_prime(number):\n",
    "    if (number % 2) != 0:\n",
    "        print (number)\n",
    "\n",
    "main()"
   ]
  },
  {
   "cell_type": "code",
   "execution_count": null,
   "id": "e7dfd689-c35b-4ddc-a4a8-7ec7032bfdec",
   "metadata": {},
   "outputs": [],
   "source": []
  }
 ],
 "metadata": {
  "kernelspec": {
   "display_name": "Python 3 (ipykernel)",
   "language": "python",
   "name": "python3"
  },
  "language_info": {
   "codemirror_mode": {
    "name": "ipython",
    "version": 3
   },
   "file_extension": ".py",
   "mimetype": "text/x-python",
   "name": "python",
   "nbconvert_exporter": "python",
   "pygments_lexer": "ipython3",
   "version": "3.11.7"
  }
 },
 "nbformat": 4,
 "nbformat_minor": 5
}
